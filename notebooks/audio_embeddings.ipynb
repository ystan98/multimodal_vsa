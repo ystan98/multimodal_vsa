{
 "cells": [
  {
   "cell_type": "code",
   "execution_count": 22,
   "id": "f2abc25c-516b-48f3-b16f-d4d3332a8a24",
   "metadata": {},
   "outputs": [],
   "source": [
    "import pandas as pd\n",
    "from torchaudio import load\n",
    "# !pip install torch"
   ]
  },
  {
   "cell_type": "code",
   "execution_count": 23,
   "id": "b28d608f-493d-494b-a694-806cb333c9dd",
   "metadata": {},
   "outputs": [
    {
     "name": "stdout",
     "output_type": "stream",
     "text": [
      "2.1.2+cu121\n",
      "cuda:0\n"
     ]
    }
   ],
   "source": [
    "# !pip install pandas\n",
    "# !pip install open_clip_torch\n",
    "import torch\n",
    "print(torch.__version__)\n",
    "torch.cuda.is_available()\n",
    "import numpy as np\n",
    "import transformers\n",
    "import librosa\n",
    "from transformers import AutoModelForSpeechSeq2Seq, AutoProcessor, pipeline\n",
    "from transformers import ClapModel, ClapProcessor, ClapConfig, AutoFeatureExtractor\n",
    "import os \n",
    "device = \"cuda:0\" if torch.cuda.is_available() else \"cpu\"\n",
    "print(device)"
   ]
  },
  {
   "cell_type": "code",
   "execution_count": 24,
   "id": "862d5654-bf80-4d41-b978-707b025ce9c2",
   "metadata": {},
   "outputs": [],
   "source": [
    "model = ClapModel.from_pretrained(\"laion/larger_clap_general\")\n",
    "processor = ClapProcessor.from_pretrained(\"laion/larger_clap_general\")"
   ]
  },
  {
   "cell_type": "code",
   "execution_count": 25,
   "id": "473edc8b-c619-4894-9f48-cfef1561228a",
   "metadata": {},
   "outputs": [],
   "source": [
    "model.to(device)\n",
    "import pandas as pd"
   ]
  },
  {
   "cell_type": "code",
   "execution_count": 26,
   "id": "60bd2450-1d67-4728-ba9d-da8e5f36b47c",
   "metadata": {},
   "outputs": [],
   "source": [
    "df = pd.read_csv('final_v2_dataframe.csv')"
   ]
  },
  {
   "cell_type": "code",
   "execution_count": 27,
   "id": "44bc3a31-65fb-420a-aa66-07206b11a0e4",
   "metadata": {},
   "outputs": [],
   "source": [
    "df['file_path'] = df['file_path'].str.replace('./Dataset/', './')"
   ]
  },
  {
   "cell_type": "code",
   "execution_count": 28,
   "id": "6a77c0b4-a52b-419c-b398-137a437b2891",
   "metadata": {},
   "outputs": [
    {
     "data": {
      "text/html": [
       "<div>\n",
       "<style scoped>\n",
       "    .dataframe tbody tr th:only-of-type {\n",
       "        vertical-align: middle;\n",
       "    }\n",
       "\n",
       "    .dataframe tbody tr th {\n",
       "        vertical-align: top;\n",
       "    }\n",
       "\n",
       "    .dataframe thead th {\n",
       "        text-align: right;\n",
       "    }\n",
       "</style>\n",
       "<table border=\"1\" class=\"dataframe\">\n",
       "  <thead>\n",
       "    <tr style=\"text-align: right;\">\n",
       "      <th></th>\n",
       "      <th>track_name</th>\n",
       "      <th>file_path</th>\n",
       "      <th>sentiment</th>\n",
       "    </tr>\n",
       "  </thead>\n",
       "  <tbody>\n",
       "    <tr>\n",
       "      <th>0</th>\n",
       "      <td>20657</td>\n",
       "      <td>./Common/020657_0s.mp3</td>\n",
       "      <td>1</td>\n",
       "    </tr>\n",
       "    <tr>\n",
       "      <th>1</th>\n",
       "      <td>20657</td>\n",
       "      <td>./Common/020657_10s.mp3</td>\n",
       "      <td>1</td>\n",
       "    </tr>\n",
       "    <tr>\n",
       "      <th>2</th>\n",
       "      <td>20657</td>\n",
       "      <td>./Common/020657_20s.mp3</td>\n",
       "      <td>1</td>\n",
       "    </tr>\n",
       "    <tr>\n",
       "      <th>3</th>\n",
       "      <td>20939</td>\n",
       "      <td>./Common/020939_0s.mp3</td>\n",
       "      <td>1</td>\n",
       "    </tr>\n",
       "    <tr>\n",
       "      <th>4</th>\n",
       "      <td>20939</td>\n",
       "      <td>./Common/020939_10s.mp3</td>\n",
       "      <td>1</td>\n",
       "    </tr>\n",
       "    <tr>\n",
       "      <th>...</th>\n",
       "      <td>...</td>\n",
       "      <td>...</td>\n",
       "      <td>...</td>\n",
       "    </tr>\n",
       "    <tr>\n",
       "      <th>4248</th>\n",
       "      <td>You Will Never See Me Coming - NEFFEX</td>\n",
       "      <td>./Common/You Will Never See Me Coming - NEFFEX...</td>\n",
       "      <td>0</td>\n",
       "    </tr>\n",
       "    <tr>\n",
       "      <th>4249</th>\n",
       "      <td>You Will Never See Me Coming - NEFFEX</td>\n",
       "      <td>./Common/You Will Never See Me Coming - NEFFEX...</td>\n",
       "      <td>0</td>\n",
       "    </tr>\n",
       "    <tr>\n",
       "      <th>4250</th>\n",
       "      <td>You Will Never See Me Coming - NEFFEX</td>\n",
       "      <td>./Common/You Will Never See Me Coming - NEFFEX...</td>\n",
       "      <td>0</td>\n",
       "    </tr>\n",
       "    <tr>\n",
       "      <th>4251</th>\n",
       "      <td>You Will Never See Me Coming - NEFFEX</td>\n",
       "      <td>./Common/You Will Never See Me Coming - NEFFEX...</td>\n",
       "      <td>0</td>\n",
       "    </tr>\n",
       "    <tr>\n",
       "      <th>4252</th>\n",
       "      <td>You Will Never See Me Coming - NEFFEX</td>\n",
       "      <td>./Common/You Will Never See Me Coming - NEFFEX...</td>\n",
       "      <td>0</td>\n",
       "    </tr>\n",
       "  </tbody>\n",
       "</table>\n",
       "<p>4253 rows × 3 columns</p>\n",
       "</div>"
      ],
      "text/plain": [
       "                                 track_name  \\\n",
       "0                                     20657   \n",
       "1                                     20657   \n",
       "2                                     20657   \n",
       "3                                     20939   \n",
       "4                                     20939   \n",
       "...                                     ...   \n",
       "4248  You Will Never See Me Coming - NEFFEX   \n",
       "4249  You Will Never See Me Coming - NEFFEX   \n",
       "4250  You Will Never See Me Coming - NEFFEX   \n",
       "4251  You Will Never See Me Coming - NEFFEX   \n",
       "4252  You Will Never See Me Coming - NEFFEX   \n",
       "\n",
       "                                              file_path  sentiment  \n",
       "0                                ./Common/020657_0s.mp3          1  \n",
       "1                               ./Common/020657_10s.mp3          1  \n",
       "2                               ./Common/020657_20s.mp3          1  \n",
       "3                                ./Common/020939_0s.mp3          1  \n",
       "4                               ./Common/020939_10s.mp3          1  \n",
       "...                                                 ...        ...  \n",
       "4248  ./Common/You Will Never See Me Coming - NEFFEX...          0  \n",
       "4249  ./Common/You Will Never See Me Coming - NEFFEX...          0  \n",
       "4250  ./Common/You Will Never See Me Coming - NEFFEX...          0  \n",
       "4251  ./Common/You Will Never See Me Coming - NEFFEX...          0  \n",
       "4252  ./Common/You Will Never See Me Coming - NEFFEX...          0  \n",
       "\n",
       "[4253 rows x 3 columns]"
      ]
     },
     "execution_count": 28,
     "metadata": {},
     "output_type": "execute_result"
    }
   ],
   "source": [
    "df"
   ]
  },
  {
   "cell_type": "code",
   "execution_count": 29,
   "id": "257b1f05-9e5d-46c4-8524-4e01d906854b",
   "metadata": {},
   "outputs": [
    {
     "data": {
      "text/plain": [
       "sentiment\n",
       "1    2173\n",
       "0    2080\n",
       "Name: count, dtype: int64"
      ]
     },
     "execution_count": 29,
     "metadata": {},
     "output_type": "execute_result"
    }
   ],
   "source": [
    "df['sentiment'].value_counts()"
   ]
  },
  {
   "cell_type": "code",
   "execution_count": 30,
   "id": "126d71cb-d4ba-4e8f-b5a5-9130ca23091f",
   "metadata": {},
   "outputs": [],
   "source": [
    "def getAudioFeature(audio):\n",
    "    waveform, sample_rate = load(audio)\n",
    "    inputs = processor(audios=waveform.numpy(), return_tensors=\"pt\", sampling_rate=48000).to(device)\n",
    "    audio_embed = model.get_audio_features(**inputs)[0]\n",
    "    return audio_embed.detach().cpu().numpy()"
   ]
  },
  {
   "cell_type": "code",
   "execution_count": 31,
   "id": "e4ecddbc",
   "metadata": {},
   "outputs": [],
   "source": [
    "df['material_id'] = \"audio\" + df.index.astype(str)"
   ]
  },
  {
   "cell_type": "code",
   "execution_count": 32,
   "id": "40095fe2-febb-45e0-a696-b0ea002f4aae",
   "metadata": {},
   "outputs": [
    {
     "data": {
      "text/html": [
       "<div>\n",
       "<style scoped>\n",
       "    .dataframe tbody tr th:only-of-type {\n",
       "        vertical-align: middle;\n",
       "    }\n",
       "\n",
       "    .dataframe tbody tr th {\n",
       "        vertical-align: top;\n",
       "    }\n",
       "\n",
       "    .dataframe thead th {\n",
       "        text-align: right;\n",
       "    }\n",
       "</style>\n",
       "<table border=\"1\" class=\"dataframe\">\n",
       "  <thead>\n",
       "    <tr style=\"text-align: right;\">\n",
       "      <th></th>\n",
       "      <th>track_name</th>\n",
       "      <th>file_path</th>\n",
       "      <th>sentiment</th>\n",
       "      <th>material_id</th>\n",
       "    </tr>\n",
       "  </thead>\n",
       "  <tbody>\n",
       "    <tr>\n",
       "      <th>0</th>\n",
       "      <td>20657</td>\n",
       "      <td>./Common/020657_0s.mp3</td>\n",
       "      <td>1</td>\n",
       "      <td>audio0</td>\n",
       "    </tr>\n",
       "    <tr>\n",
       "      <th>1</th>\n",
       "      <td>20657</td>\n",
       "      <td>./Common/020657_10s.mp3</td>\n",
       "      <td>1</td>\n",
       "      <td>audio1</td>\n",
       "    </tr>\n",
       "    <tr>\n",
       "      <th>2</th>\n",
       "      <td>20657</td>\n",
       "      <td>./Common/020657_20s.mp3</td>\n",
       "      <td>1</td>\n",
       "      <td>audio2</td>\n",
       "    </tr>\n",
       "    <tr>\n",
       "      <th>3</th>\n",
       "      <td>20939</td>\n",
       "      <td>./Common/020939_0s.mp3</td>\n",
       "      <td>1</td>\n",
       "      <td>audio3</td>\n",
       "    </tr>\n",
       "    <tr>\n",
       "      <th>4</th>\n",
       "      <td>20939</td>\n",
       "      <td>./Common/020939_10s.mp3</td>\n",
       "      <td>1</td>\n",
       "      <td>audio4</td>\n",
       "    </tr>\n",
       "    <tr>\n",
       "      <th>...</th>\n",
       "      <td>...</td>\n",
       "      <td>...</td>\n",
       "      <td>...</td>\n",
       "      <td>...</td>\n",
       "    </tr>\n",
       "    <tr>\n",
       "      <th>4248</th>\n",
       "      <td>You Will Never See Me Coming - NEFFEX</td>\n",
       "      <td>./Common/You Will Never See Me Coming - NEFFEX...</td>\n",
       "      <td>0</td>\n",
       "      <td>audio4248</td>\n",
       "    </tr>\n",
       "    <tr>\n",
       "      <th>4249</th>\n",
       "      <td>You Will Never See Me Coming - NEFFEX</td>\n",
       "      <td>./Common/You Will Never See Me Coming - NEFFEX...</td>\n",
       "      <td>0</td>\n",
       "      <td>audio4249</td>\n",
       "    </tr>\n",
       "    <tr>\n",
       "      <th>4250</th>\n",
       "      <td>You Will Never See Me Coming - NEFFEX</td>\n",
       "      <td>./Common/You Will Never See Me Coming - NEFFEX...</td>\n",
       "      <td>0</td>\n",
       "      <td>audio4250</td>\n",
       "    </tr>\n",
       "    <tr>\n",
       "      <th>4251</th>\n",
       "      <td>You Will Never See Me Coming - NEFFEX</td>\n",
       "      <td>./Common/You Will Never See Me Coming - NEFFEX...</td>\n",
       "      <td>0</td>\n",
       "      <td>audio4251</td>\n",
       "    </tr>\n",
       "    <tr>\n",
       "      <th>4252</th>\n",
       "      <td>You Will Never See Me Coming - NEFFEX</td>\n",
       "      <td>./Common/You Will Never See Me Coming - NEFFEX...</td>\n",
       "      <td>0</td>\n",
       "      <td>audio4252</td>\n",
       "    </tr>\n",
       "  </tbody>\n",
       "</table>\n",
       "<p>4253 rows × 4 columns</p>\n",
       "</div>"
      ],
      "text/plain": [
       "                                 track_name  \\\n",
       "0                                     20657   \n",
       "1                                     20657   \n",
       "2                                     20657   \n",
       "3                                     20939   \n",
       "4                                     20939   \n",
       "...                                     ...   \n",
       "4248  You Will Never See Me Coming - NEFFEX   \n",
       "4249  You Will Never See Me Coming - NEFFEX   \n",
       "4250  You Will Never See Me Coming - NEFFEX   \n",
       "4251  You Will Never See Me Coming - NEFFEX   \n",
       "4252  You Will Never See Me Coming - NEFFEX   \n",
       "\n",
       "                                              file_path  sentiment material_id  \n",
       "0                                ./Common/020657_0s.mp3          1      audio0  \n",
       "1                               ./Common/020657_10s.mp3          1      audio1  \n",
       "2                               ./Common/020657_20s.mp3          1      audio2  \n",
       "3                                ./Common/020939_0s.mp3          1      audio3  \n",
       "4                               ./Common/020939_10s.mp3          1      audio4  \n",
       "...                                                 ...        ...         ...  \n",
       "4248  ./Common/You Will Never See Me Coming - NEFFEX...          0   audio4248  \n",
       "4249  ./Common/You Will Never See Me Coming - NEFFEX...          0   audio4249  \n",
       "4250  ./Common/You Will Never See Me Coming - NEFFEX...          0   audio4250  \n",
       "4251  ./Common/You Will Never See Me Coming - NEFFEX...          0   audio4251  \n",
       "4252  ./Common/You Will Never See Me Coming - NEFFEX...          0   audio4252  \n",
       "\n",
       "[4253 rows x 4 columns]"
      ]
     },
     "execution_count": 32,
     "metadata": {},
     "output_type": "execute_result"
    }
   ],
   "source": [
    "df"
   ]
  },
  {
   "cell_type": "code",
   "execution_count": 21,
   "id": "4adb3e3f-5c0d-487a-9a19-50f14d1793c4",
   "metadata": {},
   "outputs": [
    {
     "name": "stderr",
     "output_type": "stream",
     "text": [
      "100%|███████████████████████████████████████████████████████████████████████████████| 4253/4253 [18:38<00:00,  3.80it/s]\n"
     ]
    }
   ],
   "source": [
    "from tqdm import tqdm\n",
    "\n",
    "for index, row in tqdm(df.iterrows(), total=len(df)):\n",
    "    try:\n",
    "        audio = row['file_path'] \n",
    "        text_feature = getAudioFeature(audio)\n",
    "        material_id = row['material_id']\n",
    "        torch.save(text_feature, f'./audio_embeddings/{material_id}.pt')\n",
    "    except Exception as e:\n",
    "        \n",
    "        # Handle exceptions here if needed\n",
    "        print(f\"Error processing row {index}: {e}\")"
   ]
  }
 ],
 "metadata": {
  "kernelspec": {
   "display_name": "Python 3 (ipykernel)",
   "language": "python",
   "name": "python3"
  },
  "language_info": {
   "codemirror_mode": {
    "name": "ipython",
    "version": 3
   },
   "file_extension": ".py",
   "mimetype": "text/x-python",
   "name": "python",
   "nbconvert_exporter": "python",
   "pygments_lexer": "ipython3",
   "version": "3.11.4"
  }
 },
 "nbformat": 4,
 "nbformat_minor": 5
}
